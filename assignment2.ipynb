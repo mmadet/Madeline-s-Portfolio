{
 "cells": [
  {
   "cell_type": "markdown",
   "metadata": {},
   "source": [
    "# Assignment 2\n",
    "\n",
    "## Part 1: Image Processing Basics\n",
    "\n",
    "Computers use tiny dots called _pixels_ to display images. Each pixel is stored as an array of numbers that represent color intensities.\n",
    "\n",
    "__Example.__ In an 8-bit grayscale image, each pixel is a single number. The number represents light intensity ranging from black (0) to white (255).\n",
    "\n",
    "__Example.__ In a 24-bit RGB color image, each pixel is an array of 3 numbers. These numbers range from 0 to 255 and represent red, green, and blue intensity, respectively. For instance, `(0, 0, 255)` is <span style=\"color:#00F\">bright blue</span> and `(255, 128, 0)` is <span style=\"color:#FF8000\">orange</span>.\n",
    "\n",
    "In this assignment, you'll use Python and NumPy to manipulate 24-bit RGB color images.\n",
    "\n",
    "You can use `Image.open()` from the Python imaging library (PIL) to open an image:"
   ]
  },
  {
   "cell_type": "code",
   "execution_count": 9,
   "metadata": {
    "collapsed": false
   },
   "outputs": [],
   "source": [
    "from PIL import Image\n",
    "\n",
    "# Cat image from https://unsplash.com/photos/FqkBXo2Nkq0\n",
    "cat_img = Image.open(\"cat.png\")"
   ]
  },
  {
   "cell_type": "markdown",
   "metadata": {},
   "source": [
    "Images display inline in Jupyter notebooks:"
   ]
  },
  {
   "cell_type": "code",
   "execution_count": 24,
   "metadata": {
    "collapsed": false
   },
   "outputs": [],
   "source": [
    "cat_img.show()"
   ]
  },
  {
   "cell_type": "markdown",
   "metadata": {},
   "source": [
    "In a Python terminal, you can display the image in a new window with `.show()` instead.\n",
    "\n",
    "NumPy can convert images to arrays:"
   ]
  },
  {
   "cell_type": "code",
   "execution_count": 10,
   "metadata": {
    "collapsed": false
   },
   "outputs": [],
   "source": [
    "import numpy as np\n",
    "\n",
    "cat = np.array(cat_img)"
   ]
  },
  {
   "cell_type": "markdown",
   "metadata": {},
   "source": [
    "To convert an array back to an image (for display) use the function below:"
   ]
  },
  {
   "cell_type": "code",
   "execution_count": 12,
   "metadata": {
    "collapsed": true
   },
   "outputs": [],
   "source": [
    "def as_image(x):\n",
    "    \"\"\"Convert an ndarray to an Image.\n",
    "    \n",
    "    Args:\n",
    "        x (ndarray): The array of pixels.\n",
    "        \n",
    "    Returns:\n",
    "        Image: The Image object.\n",
    "    \"\"\"\n",
    "    return Image.fromarray(np.uint8(x))"
   ]
  },
  {
   "cell_type": "markdown",
   "metadata": {},
   "source": [
    "__Exercise 1.1.__ How many dimensions does the `cat` array have? What does each dimension represent?"
   ]
  },
  {
   "cell_type": "code",
   "execution_count": 13,
   "metadata": {
    "collapsed": false
   },
   "outputs": [
    {
     "data": {
      "text/plain": [
       "(267, 400, 3)"
      ]
     },
     "execution_count": 13,
     "metadata": {},
     "output_type": "execute_result"
    }
   ],
   "source": [
    "cat.shape"
   ]
  },
  {
   "cell_type": "markdown",
   "metadata": {},
   "source": [
    "__Exercise 1.2.__ Use `.copy()` to copy the cat array to a new variable. Swap the green and blue color channels in the copy. Display the result."
   ]
  },
  {
   "cell_type": "code",
   "execution_count": 13,
   "metadata": {
    "collapsed": false
   },
   "outputs": [],
   "source": [
    "import copy\n",
    "newcat = copy.copy(cat)\n",
    "img = newcat[:,:,::-1]\n",
    "img = as_image(img)\n",
    "img.show()"
   ]
  },
  {
   "cell_type": "markdown",
   "metadata": {},
   "source": [
    "__Exercise 1.3.__ Why is `.copy()` necessary in exercise 1.2? What happens if you don't use `.copy()`?"
   ]
  },
  {
   "cell_type": "code",
   "execution_count": null,
   "metadata": {
    "collapsed": true
   },
   "outputs": [],
   "source": [
    "you lose the original channel values for the color you swap if you do not use .copy()"
   ]
  },
  {
   "cell_type": "markdown",
   "metadata": {},
   "source": [
    "__Exercise 1.4.__ Flip the blue color channel from left to right. Display the resulting image. _Hint: see the NumPy documentation on array manipulation routines._"
   ]
  },
  {
   "cell_type": "code",
   "execution_count": 14,
   "metadata": {
    "collapsed": false
   },
   "outputs": [],
   "source": [
    "newcat[:, :, 1] = np.fliplr(newcat[:, :, 1])\n",
    "newcat = as_image(newcat)\n",
    "newcat.show()"
   ]
  },
  {
   "cell_type": "markdown",
   "metadata": {},
   "source": [
    "## Part 2: Singular Value Decomposition\n",
    "\n",
    "Suppose $X$ is an $n \\times p$ matrix (for instance, one color channel of the cat image). The _singular value decomposition_ (SVD) factors $X$ as $X = UD V^T$, where:\n",
    "\n",
    "* $U$ is an $n \\times n$ orthogonal matrix\n",
    "* $D$ is an $n \\times p$ matrix with zeroes everywhere except the diagonal\n",
    "* $V$ is an $p \\times p$ orthogonal matrix\n",
    "\n",
    "Note that a matrix $A$ is _orthogonal_ when $A^T A = I$ and $AA^T = I$.\n",
    "\n",
    "__Example.__ We can use NumPy to compute the SVD for a matrix:"
   ]
  },
  {
   "cell_type": "code",
   "execution_count": 15,
   "metadata": {
    "collapsed": false
   },
   "outputs": [
    {
     "name": "stdout",
     "output_type": "stream",
     "text": [
      "u is:\n",
      "[[-0.68145174 -0.73186305]\n",
      " [-0.73186305  0.68145174]] \n",
      "d is:\n",
      "[ 4.52966162  2.54600974] \n",
      "v^T is:\n",
      "[[-0.48471372 -0.62402665 -0.6128975 ]\n",
      " [ 0.80296442 -0.03960025 -0.59470998]\n",
      " [ 0.34684399 -0.78039897  0.52026598]]\n"
     ]
    }
   ],
   "source": [
    "x = np.array(\n",
    "    [[0, 2, 3],\n",
    "     [3, 2, 1]]\n",
    ")\n",
    "u, d, vt = np.linalg.svd(x)\n",
    "# Here d is 2x2 because NumPy only returns the diagonal of D.\n",
    "print \"u is:\\n\", u, \"\\nd is:\\n\", d, \"\\nv^T is:\\n\", vt"
   ]
  },
  {
   "cell_type": "markdown",
   "metadata": {},
   "source": [
    "If we let\n",
    "\n",
    "* $u_i$ denote the $i$th column of $U$\n",
    "* $d_i$ denote the $i$th diagonal element of $D$\n",
    "* $v_i$ denote the $i$th column of $V$\n",
    "\n",
    "then we can write the SVD as $\\ X = UDV^T = d_1 u_1 v_1^T + \\ldots + d_m u_m v_m^T\\ $ using the rules of matrix multiplication. In other words, the SVD decomposes $X$ into a sum!\n",
    "\n",
    "If we eliminate some of the terms in the sum, we get a simple approximation for $X$. For instance, we could eliminate all but first 3 terms to get the approximation $X \\approx d_1 u_1 v_1^T + d_2 u_2 v_2^T + d_3 u_3 v_3^T$. This is the same as if we:\n",
    "\n",
    "* Zero all but the first 3 diagonal elements of $D$ to get $D_3$, then compute $X \\approx UD_3V^T$\n",
    "* Eliminate all but the first 3 columns of $V$ to get $p \\times 3$ matrix $V_3$, then compute $X \\approx UDV_3^T$\n",
    "\n",
    "We always eliminate terms starting from the end rather than the beginning, because these terms contribute the least to $X$.\n",
    "\n",
    "Why would we want to approximate a matrix $X$?\n",
    "\n",
    "In statistics, _principal components analysis_ uses this approximation to reduce the dimension (number of covariates) in a  centered (mean 0) data set. The vectors $d_i u_i$ are called the _principal components_ of $X$. The vectors $v_i^T$ are called the _basis vectors_. Note that both depend on $X$. The dimension is reduced by using the first $q$ principal components instead of the original $p$ covariates. In other words, the $n \\times p$ data $X$ is replaced by the $n \\times q$ data $UD_q = XV_q$\n",
    "\n",
    "In computing, this approximation is sometimes used to reduce the number of bits needed to store a matrix (or image). If $q$ terms are kept, then only $nq + pq$ values (for $XV_q$ and $V_q^T$) need to be stored instead of the uncompressed $np$ values.\n",
    "\n",
    "__Exercise 2.1.__ Write the functions described below.\n",
    "\n",
    "* A function that takes a matrix $X$ and returns its principal component matrix $XV_q$ and basis matrix $V_q^T$. This function should also take the number of terms kept $q$ as an argument.\n",
    "\n",
    "* A function that takes a principal component matrix $XV_q$ and basis matrix $V_q^T$ and returns an approximation $\\hat{X}$ for the original matrix.\n",
    "\n",
    "As usual, make sure to document your functions. Test your function on the red color channel of the cat image. What's the smallest number of terms where the cat is still recognizable as a cat?"
   ]
  },
  {
   "cell_type": "code",
   "execution_count": 27,
   "metadata": {
    "collapsed": false
   },
   "outputs": [
    {
     "name": "stdout",
     "output_type": "stream",
     "text": [
      "Enter a value for q: 10\n",
      " [  4.28548117e+00   3.84108386e+00   2.96496272e+00   1.95107953e+00\n",
      "   1.12247468e+00   5.97395584e-01   3.09774739e-01   1.10271425e-01\n",
      "  -5.58213346e-02  -1.66379249e-01  -3.28704032e-01  -5.43349525e-01\n",
      "  -8.37241244e-01  -1.06804679e+00  -1.24394559e+00  -1.33004377e+00\n",
      "  -1.50461404e+00  -1.43002991e+00  -1.49177686e+00  -1.68477324e+00\n",
      "  -1.91634661e+00  -2.03822870e+00  -1.97009788e+00  -1.83239590e+00\n",
      "  -1.70789464e+00  -1.67454013e+00  -1.64390135e+00  -1.62776049e+00\n",
      "  -1.62050643e+00  -1.46646573e+00  -1.30000320e+00  -1.14690684e+00\n",
      "  -1.01310523e+00  -9.38791680e-01  -9.29416059e-01  -8.51842703e-01\n",
      "  -6.39001656e-01  -2.94753162e-01  -7.21705560e-02   2.53397644e-01\n",
      "   8.90105005e-01   1.39677711e+00   1.63754625e+00   2.02518556e+00\n",
      "   2.39076180e+00   2.69754693e+00   2.69826555e+00   3.00661833e+00\n",
      "   3.26895958e+00   3.63276605e+00   3.65367237e+00   3.47986296e+00\n",
      "   3.21112381e+00   3.05659969e+00   2.06912970e+00   1.90202153e+00\n",
      "   1.85441361e+00   5.71557343e-01  -1.38966609e-01  -1.62006752e+00\n",
      "  -2.80866181e+00  -3.23037582e+00  -3.67505461e+00  -4.07361302e+00\n",
      "  -4.64522302e+00  -4.62600258e+00  -3.65502727e+00  -3.84007304e+00\n",
      "  -3.58203878e+00  -2.68678932e+00  -2.14723043e+00  -7.94302947e-01\n",
      "  -2.12670743e-01   5.66371234e-01   1.30403381e+00   1.76846299e+00\n",
      "   2.52560644e+00   4.98143353e+00   5.48606313e+00   4.00336441e+00\n",
      "   2.64627334e+00   1.73776764e+00   1.38715759e+00   1.90414313e+00\n",
      "   2.00511848e+00   3.43652672e+00   3.08674422e+00   8.82513719e-01\n",
      "   1.33368514e+00   1.09453865e+00   3.42306940e-01   1.28016697e+00\n",
      "   9.81831623e-01   3.53181791e-01   3.41461687e-01  -1.24124227e+00\n",
      "  -2.18694034e+00  -2.40130290e+00  -2.68138106e+00  -3.32767574e+00\n",
      "  -1.66745123e+00  -2.60527836e+00  -2.21906330e+00  -2.38752061e+00\n",
      "  -2.48007541e+00  -2.48836330e+00  -2.46154310e+00  -1.86451760e+00\n",
      "  -2.58096981e+00  -2.22523735e+00  -1.72365575e+00  -2.61574487e+00\n",
      "  -2.93621287e+00  -2.56986278e+00  -1.83102687e+00  -1.67455504e+00\n",
      "  -8.11440339e-01   2.87379606e-01   2.87581966e-01  -1.77649912e-01\n",
      "  -5.14141642e-01  -1.23486294e+00  -1.88558869e+00  -2.02497338e+00\n",
      "  -8.93254336e-01   7.91398964e-01   1.62661161e+00   2.22675549e+00\n",
      "   2.72680682e+00   2.83461197e+00   2.84986915e+00   3.37446556e+00\n",
      "   3.71630562e+00   3.39415074e+00   2.07663972e+00   1.21917935e+00\n",
      "   5.08516340e-01  -2.67615257e-01  -1.18515133e+00  -3.06426538e+00\n",
      "  -2.51348941e+00  -2.11119711e+00  -2.27852415e+00  -2.68814475e+00\n",
      "  -2.10922792e+00  -1.36440067e+00  -5.30421285e-01   1.62267941e-01\n",
      "   7.92639801e-01   1.21710455e+00   9.97207226e-01   5.86140575e-01\n",
      "   9.22702848e-01   5.98220630e-01   5.83693821e-01   5.56716722e-01\n",
      "   3.09511458e-01  -1.70927254e-03   8.74363485e-01   2.61602527e-01\n",
      "   1.83657940e-01   7.63262806e-01   9.01411585e-01   5.67972185e-01\n",
      "   1.09757533e+00   1.59985328e+00   2.33897724e+00   1.84326076e+00\n",
      "   1.14278190e+00   1.30835227e+00   6.58974288e-01  -4.12645493e-01\n",
      "  -7.46891744e-01  -4.68282214e-01  -5.09136254e-01  -1.35281197e+00\n",
      "  -2.19977003e+00  -2.16348381e+00  -1.77005508e+00  -1.62729768e+00\n",
      "  -1.07742586e+00  -1.00224928e+00  -4.94608773e-01  -7.80437856e-01\n",
      "  -8.17916373e-01  -8.59116317e-01  -6.75901029e-01  -2.56303631e-01\n",
      "  -6.07689157e-01  -1.40974748e+00  -1.62504095e+00  -2.06954112e+00\n",
      "  -2.82907222e+00  -2.67364182e+00  -2.15359942e+00  -1.50196997e+00\n",
      "  -9.81006776e-01  -3.81556530e-01  -8.26928893e-01  -6.33525382e-01\n",
      "  -4.56848237e-01  -6.31652732e-01  -1.22829474e+00  -1.43751153e+00\n",
      "  -1.45475800e+00  -8.32671792e-01  -1.95092763e-01   3.78614633e-01\n",
      "   1.75732781e+00   2.70577820e+00   3.12904621e+00   2.49959907e+00\n",
      "   7.94829202e-01  -5.68821408e-01   1.44654752e-01   1.52788788e+00\n",
      "   1.18514124e+00   8.90154150e-03  -2.67507058e-01  -4.88072891e-01\n",
      "  -2.24322213e-01   6.02738251e-01   1.00653993e+00   1.01141108e+00\n",
      "   3.97015012e-01   9.46786315e-01   1.49592005e+00   2.42415422e+00\n",
      "   2.62156930e+00   2.23935082e+00   1.82048285e+00   1.11597446e+00\n",
      "   5.97194838e-01   3.69261935e-01   3.08307238e-02   5.10769665e-01\n",
      "   5.67141755e-01   8.33991733e-01   1.28599700e+00   8.30436526e-01\n",
      "   4.66492820e-02   6.87562052e-01   1.25913043e+00   1.39103641e+00\n",
      "   1.11766165e-01   4.21099039e-01   7.29556638e-01   4.52650707e-01\n",
      "   2.39702543e-01   8.25401979e-01   5.10157509e-01   1.33064224e-01\n",
      "   4.49163250e-01   4.74907708e-01   1.01957384e-01   4.87647108e-01\n",
      "   1.77731366e-01  -9.55406533e-02  -4.21584299e-01  -7.95966853e-01\n",
      "  -1.69029203e-01   2.43649169e-01  -7.07626455e-01  -1.52827607e-01\n",
      "   3.94389982e-01  -5.12345348e-01  -8.56022956e-01]\n",
      "Principal component matrix: [  2.02184641e+02   1.81218428e+02   1.39883924e+02   9.20499472e+01\n",
      "   5.29572131e+01   2.81845158e+01   1.46148570e+01   5.20249364e+00\n",
      "  -2.63359377e+00  -7.84960368e+00  -1.55079218e+01  -2.56346778e+01\n",
      "  -3.95001900e+01  -5.03893606e+01  -5.86880874e+01  -6.27501116e+01\n",
      "  -7.09861595e+01  -6.74673560e+01  -7.03805144e+01  -7.94858875e+01\n",
      "  -9.04112832e+01  -9.61615564e+01  -9.29472134e+01  -8.64505742e+01\n",
      "  -8.05767314e+01  -7.90030995e+01  -7.75575933e+01  -7.67960839e+01\n",
      "  -7.64538444e+01  -6.91863609e+01  -6.13328284e+01  -5.41098977e+01\n",
      "  -4.77972739e+01  -4.42912363e+01  -4.38489040e+01  -4.01890720e+01\n",
      "  -3.01474480e+01  -1.39061543e+01  -3.40493340e+00   1.19550430e+01\n",
      "   4.19942485e+01   6.58985229e+01   7.72577657e+01   9.55461944e+01\n",
      "   1.12793709e+02   1.27267519e+02   1.27301423e+02   1.41849194e+02\n",
      "   1.54226187e+02   1.71390206e+02   1.72376545e+02   1.64176394e+02\n",
      "   1.51497554e+02   1.44207263e+02   9.76194339e+01   8.97354406e+01\n",
      "   8.74893474e+01   2.69654939e+01  -6.55630321e+00  -7.64331373e+01\n",
      "  -1.32509806e+02  -1.52405844e+02  -1.73385337e+02  -1.92188918e+02\n",
      "  -2.19156896e+02  -2.18250095e+02  -1.72440468e+02  -1.81170739e+02\n",
      "  -1.68996945e+02  -1.26759986e+02  -1.01304147e+02  -3.74744049e+01\n",
      "  -1.00335893e+01   2.67208185e+01   6.15229884e+01   8.34342847e+01\n",
      "   1.19155542e+02   2.35018965e+02   2.58826877e+02   1.88874660e+02\n",
      "   1.24848484e+02   8.19861090e+01   6.54446836e+01   8.98355354e+01\n",
      "   9.45994500e+01   1.62131834e+02   1.45629452e+02   4.16360994e+01\n",
      "   6.29219081e+01   5.16392197e+01   1.61496932e+01   6.03969752e+01\n",
      "   4.63218170e+01   1.66627576e+01   1.61098150e+01  -5.85605475e+01\n",
      "  -1.03177620e+02  -1.13291028e+02  -1.26504830e+02  -1.56996356e+02\n",
      "  -7.86686524e+01  -1.22914382e+02  -1.04693149e+02  -1.12640793e+02\n",
      "  -1.17007435e+02  -1.17398449e+02  -1.16133099e+02  -8.79660432e+01\n",
      "  -1.21767530e+02  -1.04984434e+02  -8.13203247e+01  -1.23408182e+02\n",
      "  -1.38527536e+02  -1.21243511e+02  -8.63859846e+01  -7.90038030e+01\n",
      "  -3.82829296e+01   1.35582774e+01   1.35678246e+01  -8.38134208e+00\n",
      "  -2.42566796e+01  -5.82595770e+01  -8.89601558e+01  -9.55361839e+01\n",
      "  -4.21428307e+01   3.73373979e+01   7.67418806e+01   1.05056058e+02\n",
      "   1.28647972e+02   1.33734109e+02   1.34453927e+02   1.59203852e+02\n",
      "   1.75331518e+02   1.60132578e+02   9.79737491e+01   5.75196411e+01\n",
      "   2.39912835e+01  -1.26258155e+01  -5.59142340e+01  -1.44568923e+02\n",
      "  -1.18583873e+02  -9.96041318e+01  -1.07498451e+02  -1.26823934e+02\n",
      "  -9.95112273e+01  -6.43710354e+01  -2.50247366e+01   7.65563635e+00\n",
      "   3.73959393e+01   5.74217541e+01   4.70472223e+01   2.76535159e+01\n",
      "   4.35321816e+01   2.82234407e+01   2.75380806e+01   2.62653285e+01\n",
      "   1.46024357e+01  -8.06417392e-02   4.12515796e+01   1.23421411e+01\n",
      "   8.66479474e+00   3.60099626e+01   4.25276814e+01   2.67963498e+01\n",
      "   5.17824873e+01   7.54794499e+01   1.10350566e+02   8.69631671e+01\n",
      "   5.39152873e+01   6.17267290e+01   3.10897364e+01  -1.94681945e+01\n",
      "  -3.52375926e+01  -2.20930784e+01  -2.40205304e+01  -6.38242923e+01\n",
      "  -1.03782912e+02  -1.02070965e+02  -8.35093976e+01  -7.67742486e+01\n",
      "  -5.08318558e+01  -4.72851013e+01  -2.33351387e+01  -3.68202640e+01\n",
      "  -3.85884623e+01  -4.05322337e+01  -3.18883229e+01  -1.20921445e+01\n",
      "  -2.86701561e+01  -6.65104516e+01  -7.66677786e+01  -9.76388446e+01\n",
      "  -1.33472749e+02  -1.26139701e+02  -1.01604629e+02  -7.08614151e+01\n",
      "  -4.62829016e+01  -1.80014489e+01  -3.90136638e+01  -2.98890830e+01\n",
      "  -2.15536350e+01  -2.98007332e+01  -5.79496961e+01  -6.78203313e+01\n",
      "  -6.86340022e+01  -3.92846080e+01  -9.20427808e+00   1.78626531e+01\n",
      "   8.29089382e+01   1.27655863e+02   1.47625217e+02   1.17928541e+02\n",
      "   3.74992331e+01  -2.68364153e+01   6.82466400e+00   7.20841954e+01\n",
      "   5.59137578e+01   4.19965671e-01  -1.26207108e+01  -2.30267824e+01\n",
      "  -1.05832938e+01   2.84365774e+01   4.74875298e+01   4.77173458e+01\n",
      "   1.87307643e+01   4.46684151e+01   7.05759859e+01   1.14369130e+02\n",
      "   1.23682972e+02   1.05650293e+02   8.58885286e+01   5.26505398e+01\n",
      "   2.81750448e+01   1.74214024e+01   1.45456218e+00   2.40975931e+01\n",
      "   2.67571709e+01   3.93468814e+01   6.06720302e+01   3.91791504e+01\n",
      "   2.20086566e+00   3.24384781e+01   5.94044925e+01   6.56276826e+01\n",
      "   5.27301396e+00   1.98670242e+01   3.44197399e+01   2.13555998e+01\n",
      "   1.13089221e+01   3.89416256e+01   2.40687122e+01   6.27783471e+00\n",
      "   2.11910651e+01   2.24056625e+01   4.81024562e+00   2.30066944e+01\n",
      "   8.38518502e+00  -4.50751082e+00  -1.98899183e+01  -3.75529063e+01\n",
      "  -7.97462582e+00   1.14951199e+01  -3.33850962e+01  -7.21025099e+00\n",
      "   1.86069181e+01  -2.41719322e+01  -4.03862921e+01]\n",
      "Basis matrix: [ -5.26468212e-02   4.18949712e-02  -9.32476687e-03   1.59087289e-02\n",
      "   2.31543936e-02  -1.08279411e-02  -3.54668780e-02   2.83655307e-02\n",
      "   3.48118418e-03  -3.05441343e-02   2.25678365e-02   1.15780548e-02\n",
      "   2.39119866e-02   4.43762751e-02   1.19136819e-02   2.23712140e-02\n",
      "   3.02030413e-02   1.10340409e-02  -1.39471955e-02  -4.16314340e-02\n",
      "  -1.38493769e-02   2.97142058e-02   4.86652851e-02  -4.06107279e-03\n",
      "   5.98457480e-03   7.27455343e-03   2.89983387e-02   1.54522337e-02\n",
      "   2.10898766e-02  -8.39309357e-03  -1.35793743e-02  -2.55960751e-02\n",
      "  -6.24366810e-02   1.10327819e-02   6.10980269e-02  -7.63551155e-03\n",
      "  -1.05659332e-02   1.84574643e-02   2.93969925e-02   5.63251767e-02\n",
      "  -1.80101337e-02  -3.36497536e-02   3.72251003e-02  -2.25993318e-02\n",
      "  -6.43690067e-02   3.68650297e-02  -6.87224032e-02  -1.21843239e-02\n",
      "   4.14310324e-03  -2.93169703e-02  -8.05330824e-02  -4.63450177e-02\n",
      "   1.23425674e-02  -1.53607186e-02   2.84635609e-02   5.42632345e-03\n",
      "  -1.06278684e-01   3.63206073e-02   3.65826965e-03  -1.08562251e-02\n",
      "  -3.34250144e-02   7.18478465e-02   8.82534328e-03   3.69356653e-02\n",
      "   3.17519978e-02  -1.80476741e-02   5.35648200e-02  -3.36052893e-02\n",
      "   4.38744223e-03  -9.35667529e-03   5.68189227e-02   6.84503015e-02\n",
      "  -2.16383729e-02  -1.32317765e-01   8.38044587e-03   1.09926759e-02\n",
      "  -6.19539404e-02  -7.63060203e-02  -7.03408241e-02  -1.85940695e-02\n",
      "   2.56096508e-02   1.29665539e-02  -4.26494750e-02  -2.92800502e-02\n",
      "   6.88311600e-02  -4.90840587e-02  -8.22194418e-03   5.89291820e-03\n",
      "  -9.04144257e-03  -4.00532772e-02   1.12849424e-03   1.56800096e-02\n",
      "  -1.07677588e-01  -1.00091021e-01  -1.39820262e-02   4.07041243e-02\n",
      "   2.65311805e-02   3.01112095e-02  -3.86804107e-02   9.24116390e-02\n",
      "   2.76565967e-02   2.17707331e-02   5.30156719e-02  -3.18585243e-02\n",
      "   1.59671281e-02  -9.76519555e-02  -3.82422724e-02  -7.13568788e-03\n",
      "   3.68692916e-03   1.07238071e-02  -8.11441168e-03   4.91071910e-02\n",
      "  -1.09249308e-02   3.08384571e-03  -5.68921051e-02   2.60500304e-02\n",
      "   1.58681850e-02   8.54135206e-02   2.13273713e-02   6.34140776e-02\n",
      "   3.15302136e-02  -3.20465146e-02   8.21821949e-02   8.51153380e-03\n",
      "   9.86555687e-03  -5.97571379e-02  -3.68688281e-02   4.19387188e-02\n",
      "   4.00535151e-02  -7.67686030e-02  -1.32766705e-02  -6.44200347e-02\n",
      "  -4.19638826e-02  -8.65823836e-02   7.35690794e-02  -3.23864684e-02\n",
      "   1.39346698e-02  -5.03109825e-02   3.94568012e-02  -3.95126921e-02\n",
      "   1.46424307e-02   2.42596199e-02  -4.78282083e-02  -6.21467148e-02\n",
      "  -2.78654659e-02   3.89658702e-02   3.73953576e-02  -8.74206421e-03\n",
      "   1.40666478e-02  -6.76561804e-02   1.94037705e-02  -6.67042489e-02\n",
      "  -2.69175171e-03   2.24082739e-02  -1.94808572e-02  -8.29676656e-02\n",
      "   4.33749886e-02  -2.44463386e-02   5.36533756e-03   1.13801359e-01\n",
      "   3.91319749e-02   5.01216794e-02  -1.16198839e-02   4.10862158e-02\n",
      "  -1.94026170e-03   1.13350050e-02   9.19133764e-02  -3.93968884e-02\n",
      "  -8.21207083e-02  -4.06768966e-02  -1.11487233e-01  -6.60919827e-02\n",
      "   9.45253608e-02   6.71834656e-02  -5.61184915e-03  -5.32310866e-02\n",
      "   1.87179280e-02  -2.88691141e-03  -2.87320805e-02   3.72041277e-02\n",
      "  -1.00642128e-02   9.30348657e-04  -2.27170487e-02  -1.30062403e-01\n",
      "  -7.01680416e-02  -9.29282026e-03  -4.31326914e-03   7.17921814e-03\n",
      "  -3.67550484e-03   1.88310768e-02   1.87956799e-02  -2.18873481e-02\n",
      "  -2.08992997e-03   6.04142871e-03  -6.39678214e-02   4.48771276e-02\n",
      "   4.61035710e-02  -1.12372892e-02   1.36464898e-02  -3.58609284e-03\n",
      "   2.73417763e-02   1.13785738e-04  -5.25582998e-02   2.89684235e-02\n",
      "  -2.39657157e-02  -1.97510734e-02  -6.74667438e-02   2.14636813e-02\n",
      "   6.99382319e-02  -8.33269745e-02  -5.18570654e-02  -3.91723330e-02\n",
      "   1.33729349e-03  -1.96593395e-02   2.18937331e-03  -7.57133086e-03\n",
      "   1.34262824e-02  -3.26763028e-02  -1.35335122e-02  -5.36058920e-02\n",
      "  -6.39590716e-03   1.40952261e-02  -7.39373737e-02  -2.11607202e-02\n",
      "   3.69602365e-02  -5.25251185e-02   1.85073420e-02   4.82649368e-02\n",
      "  -1.60083024e-02  -7.74879507e-03   7.96311840e-02   2.88970811e-02\n",
      "  -4.42970757e-03  -1.70559802e-02   5.95717896e-02  -1.63475388e-02\n",
      "   5.00923022e-02   1.29344241e-02  -5.97797911e-03   4.70119143e-02\n",
      "   1.07766117e-01   3.63370046e-02  -2.40751401e-02  -5.40699997e-02\n",
      "  -1.52715351e-02  -1.45413900e-02   9.73637248e-04  -5.03734924e-02\n",
      "   4.36486260e-02   3.68956515e-02  -4.64107395e-03  -1.30030368e-02\n",
      "   1.78328665e-02  -7.66185537e-03  -6.74832847e-02   6.03798239e-02\n",
      "   8.22457337e-02   5.85772219e-04  -1.30272680e-01   2.99174045e-04\n",
      "  -7.96660465e-02  -8.98399023e-03   7.35024680e-03   2.52293559e-02\n",
      "   1.18813426e-01  -6.02903518e-02   4.79091739e-02  -2.85200417e-02\n",
      "   2.33351153e-02  -4.28235483e-02  -8.61594204e-02   7.35207422e-02\n",
      "  -1.12695863e-01  -4.56933253e-02  -4.79985527e-03  -1.37138423e-01\n",
      "   5.64344668e-03  -6.11365203e-03   6.53344090e-02   2.15867102e-02\n",
      "  -1.58014163e-02   7.40296221e-02  -4.15154990e-02   6.57115898e-02\n",
      "   9.49779719e-02  -2.38762460e-02  -3.56181896e-02  -5.79423395e-02\n",
      "  -6.56256079e-03  -3.35348072e-03  -3.91407934e-02  -5.67594281e-02\n",
      "  -2.17079831e-02  -6.39214775e-02  -2.66153003e-02  -9.63929749e-02\n",
      "   2.58605524e-02   6.09881268e-02   4.23377965e-02  -1.02027842e-02\n",
      "   9.60531754e-04  -1.66950769e-02  -1.16754023e-01   1.65361190e-02\n",
      "  -2.82624885e-02   1.13602734e-02  -9.88098394e-03  -5.46009916e-02\n",
      "   1.15437468e-01   7.42791438e-02  -4.41964583e-02  -2.99155909e-02\n",
      "  -1.97600859e-02   4.19937223e-02  -1.68319137e-02  -8.04500195e-02\n",
      "  -5.92409760e-02  -5.75028680e-02   3.09104194e-02   7.77846221e-03\n",
      "  -1.09332007e-03  -6.78043378e-02  -8.87540846e-03   3.67406852e-02\n",
      "   8.17644991e-02  -3.58375599e-02   4.29370992e-02  -2.07056737e-02\n",
      "   9.59888078e-02  -2.12292265e-03   1.91076565e-02   1.34210889e-01\n",
      "  -1.27351663e-01  -3.01735542e-02  -3.12287249e-02  -8.81056397e-02\n",
      "   9.04631484e-02   2.95897417e-02  -1.23543623e-01  -4.10625124e-02\n",
      "   4.49612257e-03  -9.16976426e-02   6.22901343e-03   4.07352663e-02\n",
      "  -7.02395407e-02  -8.97642879e-02  -7.13301895e-03   3.30340930e-02\n",
      "   6.80552255e-02   1.39897417e-01  -1.78006240e-01  -9.92454703e-02\n",
      "  -7.02261337e-02  -3.02456056e-02   2.40715396e-02   9.20203945e-02\n",
      "   2.69242620e-02   6.22412859e-02   1.11770955e-01  -2.33326540e-02\n",
      "  -3.38016071e-02  -1.25598968e-02  -7.88499090e-02  -1.84159978e-02\n",
      "   4.26385704e-02  -1.67267195e-02   1.69467602e-02   1.76994210e-02\n",
      "   1.12153884e-03  -4.66407111e-03  -9.37776570e-02  -5.14729465e-02\n",
      "   2.83900295e-02  -4.36953454e-02  -1.44021277e-03   5.06804331e-03\n",
      "  -5.90056248e-03  -2.89629483e-02   3.27256447e-02  -3.34013091e-02\n",
      "   4.35483524e-02   1.86093500e-02   7.27147866e-02  -6.20571744e-02\n",
      "   5.99254132e-03   4.20124308e-02  -8.79892180e-02  -3.11523480e-02\n",
      "   6.54182397e-02   8.13552983e-02  -5.16859626e-03  -2.17868210e-03\n",
      "   2.64516641e-02   3.46715236e-02   1.25036347e-02   4.66717821e-02\n",
      "   5.61997065e-02   1.16827575e-01   3.74098051e-02   6.29914027e-03]\n"
     ]
    }
   ],
   "source": [
    "othercat = copy.copy(cat)\n",
    "red = othercat[:, :, 0]\n",
    "def fun(x):\n",
    "    q = input(\"Enter a value for q: \")\n",
    "    u, d, vt = np.linalg.svd(x)\n",
    "    v = np.transpose(vt)\n",
    "    pcm = x.dot(v[:,q])\n",
    "    est = (v[:,q]).dot(vt[:,q])\n",
    "    print pcm.dot(est)\n",
    "    print \"Principal component matrix:\" ,pcm\n",
    "    print \"Basis matrix:\" ,vt[:,q]\n",
    "\n",
    "fun(red)\n",
    "    "
   ]
  },
  {
   "cell_type": "markdown",
   "metadata": {},
   "source": [
    "__Exercise 2.2.__ You can check the number of bytes used by a NumPy array with the `.nbytes` attribute. How many bytes does the red color channel of the cat image use? How many bytes does the compressed version use when 10 terms are kept? What percentage of the original size is this?"
   ]
  },
  {
   "cell_type": "code",
   "execution_count": 49,
   "metadata": {
    "collapsed": false
   },
   "outputs": [
    {
     "data": {
      "text/plain": [
       "106800"
      ]
     },
     "execution_count": 49,
     "metadata": {},
     "output_type": "execute_result"
    }
   ],
   "source": [
    "red.nbytes"
   ]
  },
  {
   "cell_type": "code",
   "execution_count": null,
   "metadata": {
    "collapsed": false
   },
   "outputs": [],
   "source": [
    "def fun(x):\n",
    "    q = input(\"Enter a value for q: \")\n",
    "    u, d, vt = np.linalg.svd(x)\n",
    "    v = np.transpose(vt)\n",
    "    pcm = x.dot(v[:,q])\n",
    "    print \"Principal component matrix:\" ,pcm\n",
    "    print \"Basis matrix:\" ,vt[:,q]\n",
    "    print \"Number of bytes:\", pcm.nbytes\n",
    "    \n",
    "fun(red)\n"
   ]
  },
  {
   "cell_type": "code",
   "execution_count": null,
   "metadata": {
    "collapsed": false
   },
   "outputs": [],
   "source": [
    "print np.divide(2136.0,106800.0)\n",
    "print \"2 percent of original\""
   ]
  }
 ],
 "metadata": {
  "anaconda-cloud": {},
  "kernelspec": {
   "display_name": "Python 2",
   "language": "python",
   "name": "python2"
  },
  "language_info": {
   "codemirror_mode": {
    "name": "ipython",
    "version": 2
   },
   "file_extension": ".py",
   "mimetype": "text/x-python",
   "name": "python",
   "nbconvert_exporter": "python",
   "pygments_lexer": "ipython2",
   "version": "2.7.12rc1"
  }
 },
 "nbformat": 4,
 "nbformat_minor": 2
}
